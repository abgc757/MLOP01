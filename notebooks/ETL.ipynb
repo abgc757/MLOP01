{
 "cells": [
  {
   "cell_type": "markdown",
   "metadata": {},
   "source": [
    "# ETL"
   ]
  },
  {
   "cell_type": "code",
   "execution_count": null,
   "metadata": {},
   "outputs": [],
   "source": [
    "import pandas as pd\n",
    "import numpy as np\n",
    "import ast\n",
    "import json\n",
    "import nltk\n",
    "import re\n",
    "from nltk.sentiment.vader import SentimentIntensityAnalyzer\n",
    "from sklearn.feature_extraction.text import TfidfVectorizer"
   ]
  },
  {
   "cell_type": "markdown",
   "metadata": {},
   "source": [
    "Función `load_json` recibe el nombre del archivo en formato JSON y realiza la carga"
   ]
  },
  {
   "cell_type": "code",
   "execution_count": null,
   "metadata": {},
   "outputs": [],
   "source": [
    "def load_json(file):\n",
    "    with open(file,'r',encoding='utf-8') as file:\n",
    "        data_list = []\n",
    "        for line in file:\n",
    "            try:\n",
    "                data_list.append(json.loads(line))\n",
    "            except ValueError:\n",
    "                data =  ast.literal_eval(line)\n",
    "                if isinstance(data, dict):\n",
    "                    data_list.append(data)\n",
    "    return pd.DataFrame(data_list)"
   ]
  },
  {
   "cell_type": "markdown",
   "metadata": {},
   "source": [
    "Carga de los archivos:\n",
    "- `australian_user_reviews.json`\n",
    "- `australian_users_items.json`\n",
    "- `output_steam_games.json`\n",
    "\n",
    "Los cuales son cargados en los DataFrames `reviews`, `items` y `games`"
   ]
  },
  {
   "cell_type": "code",
   "execution_count": null,
   "metadata": {},
   "outputs": [],
   "source": [
    "reviews = load_json('../dataset/australian_user_reviews.json')\n",
    "items = load_json('../dataset/australian_users_items.json')\n",
    "games = load_json('../dataset/output_steam_games.json')"
   ]
  },
  {
   "cell_type": "markdown",
   "metadata": {},
   "source": [
    "Limpieza de datos para los DataFrames:\n",
    "- reviews: Puede notarse que no contiene nulos y la columna `reviews` contiene las recomendaciones de de los juegos que el usuario ha rankeado, por lo que dicha columna esta anidada"
   ]
  },
  {
   "cell_type": "code",
   "execution_count": null,
   "metadata": {},
   "outputs": [],
   "source": [
    "reviews.sample()"
   ]
  },
  {
   "cell_type": "code",
   "execution_count": null,
   "metadata": {},
   "outputs": [],
   "source": [
    "reviews.info()"
   ]
  },
  {
   "cell_type": "markdown",
   "metadata": {},
   "source": [
    "- items: Este DataFrame no contiene registros nulos y es notorio que la columna `items` contiene los juegos de los usuarios, por lo que dicha columna esta anidada"
   ]
  },
  {
   "cell_type": "code",
   "execution_count": null,
   "metadata": {},
   "outputs": [],
   "source": [
    "items.sample()"
   ]
  },
  {
   "cell_type": "code",
   "execution_count": null,
   "metadata": {},
   "outputs": [],
   "source": [
    "items.info()"
   ]
  },
  {
   "cell_type": "markdown",
   "metadata": {},
   "source": [
    "- games\n",
    "En este DataFrame encontramos una gran cantidad de registros nulos, por lo que se proceden a eliminar los registros nulos de las columnas `app_name` y `title`. Ademas de lo anterior es notorio que la columna `price` contiene datos numéricos y cadenas de texto, por lo que se homogeniza el tipo de dato a tipo string, debido a las diferentes variantes encontradas en este campo y la columna `release_date` contiene fechas por lo que se le asigna ese tipo de dato.\n",
    "\n",
    "El contenido de los campos\n",
    "-  `genres`: Es una lista de los generos que abarca el videojuego.\n",
    "- `tags` : Lista de palabras claves que describen  al videojuego.\n",
    "- `specs` : Lista de caracteristicas de jugabilidad del videojuego"
   ]
  },
  {
   "cell_type": "code",
   "execution_count": null,
   "metadata": {},
   "outputs": [],
   "source": [
    "games.sample()"
   ]
  },
  {
   "cell_type": "code",
   "execution_count": null,
   "metadata": {},
   "outputs": [],
   "source": [
    "games.info()"
   ]
  },
  {
   "cell_type": "code",
   "execution_count": null,
   "metadata": {},
   "outputs": [],
   "source": [
    "games = games.dropna(subset=['app_name','title'])\n",
    "games['price'] = games['price'].astype(str)\n",
    "games['release_date'] = pd.to_datetime(games['release_date'], format=\"%Y-%m-%d\", errors='coerce')"
   ]
  },
  {
   "cell_type": "code",
   "execution_count": null,
   "metadata": {},
   "outputs": [],
   "source": [
    "games.info()"
   ]
  },
  {
   "cell_type": "markdown",
   "metadata": {},
   "source": [
    "Creación de DataFrame para la función `PlayTimeGenre`"
   ]
  },
  {
   "cell_type": "code",
   "execution_count": null,
   "metadata": {},
   "outputs": [],
   "source": [
    "# Función que permite desanidar los registros contenidos en la columna items\n",
    "def unnesting_items(df): \n",
    "    i = 0\n",
    "    data_list = []\n",
    "    while i <= len(df['user_id']) - 1:\n",
    "        user_id = df['user_id'].iloc[i]\n",
    "        steam_id = df['steam_id'].iloc[i]\n",
    "        user_url = df['user_url'].iloc[i]\n",
    "        lista = df['items'].iloc[i]\n",
    "        for j in lista:\n",
    "            j['user_id'] = user_id\n",
    "            j['steam_id'] = steam_id\n",
    "            j['user_url'] = user_url\n",
    "            data_list.append(j)\n",
    "        i = i + 1\n",
    "    return pd.DataFrame(data_list)\n",
    "# Aplicamos la función a nuestro DataFrame items\n",
    "items_unnesting = unnesting_items(items)\n",
    "items_unnesting['item_id'] = items_unnesting['item_id'].astype(int) #  Convertimos el dato item_id de objeto a entero\n",
    "items_unnesting['steam_id'] = items_unnesting['steam_id'].astype('Int64') # Convertimos  el dato 'steam_id' a entero"
   ]
  },
  {
   "cell_type": "code",
   "execution_count": null,
   "metadata": {},
   "outputs": [],
   "source": [
    "games_exploded = games.explode('genres') # Desanidamos  los géneros en filas\n",
    "# Reemplaza las cadenas que no sean fechas válidas por NaN\n",
    "games_exploded['release_date'] = pd.to_datetime(games_exploded['release_date'], errors='coerce')\n",
    "#Crear columna year\n",
    "games_exploded['year'] = games_exploded['release_date'].dt.year\n",
    "games_exploded['id'] = games_exploded['id'].astype('Int32') # Convertir columnas a int\n",
    "# Combinar DF's games_explode con items coincidiendo por id    \n",
    "merged_data = games_exploded.merge(items_unnesting, left_on='id', right_on='item_id', how='inner')\n",
    "# Sumar playtime_forever por género y año\n",
    "genre_playtime = merged_data.groupby(['genres','year'])['playtime_forever'].sum().reset_index()\n",
    "# Ordenar de mayor a menor sobre 'playtime_forever'\n",
    "ranking_genre = genre_playtime.sort_values(by='playtime_forever', ascending=False)\n",
    "ranking_genre = ranking_genre.reset_index(drop=True) # Quitar el índice\n",
    "ranking_genre['year'] = ranking_genre['year'].astype(int) #  Convertir a int los años "
   ]
  },
  {
   "cell_type": "code",
   "execution_count": null,
   "metadata": {},
   "outputs": [],
   "source": [
    "ranking_genre.to_parquet('../dataset/genres_playtime.parquet')"
   ]
  },
  {
   "cell_type": "markdown",
   "metadata": {},
   "source": [
    "Creación del DataFrame para la función `UserForGenre`"
   ]
  },
  {
   "cell_type": "code",
   "execution_count": null,
   "metadata": {},
   "outputs": [],
   "source": [
    "merged_data = items_unnesting.merge(games_exploded, left_on='item_id',right_on='id', how='inner')\n",
    "user_playtime_genre = merged_data.groupby(['genres','user_id','year'])['playtime_forever'].sum().reset_index()\n",
    "user_playtime_genre['year'] = user_playtime_genre['year'].astype(int)"
   ]
  },
  {
   "cell_type": "code",
   "execution_count": null,
   "metadata": {},
   "outputs": [],
   "source": [
    "user_playtime_genre.to_parquet('../dataset/user_playtime2genres.parquet')"
   ]
  },
  {
   "cell_type": "markdown",
   "metadata": {},
   "source": [
    "Creación del DataFrame `UsersRecommend`"
   ]
  },
  {
   "cell_type": "markdown",
   "metadata": {},
   "source": [
    "Desanidar columna reviews del DataFrame reviews"
   ]
  },
  {
   "cell_type": "code",
   "execution_count": null,
   "metadata": {},
   "outputs": [],
   "source": [
    "reviews = reviews.explode(column=['reviews']).reset_index()\n",
    "reviews = reviews.drop('index',axis=1)\n",
    "reviews_list = []\n",
    "i = 0\n",
    "while i <= len(reviews['user_id'])-1:\n",
    "    dic = {'user_id':reviews['user_id'].loc[i]}\n",
    "    if isinstance(reviews['reviews'].loc[i],dict):\n",
    "        dic.update(reviews['reviews'].loc[i])\n",
    "        reviews_list.append(dic)\n",
    "    i  += 1\n",
    "reviews = pd.DataFrame(reviews_list)"
   ]
  },
  {
   "cell_type": "markdown",
   "metadata": {},
   "source": [
    "Homogenizar formato de fecha para la columna posted_date y last_edited"
   ]
  },
  {
   "cell_type": "code",
   "execution_count": null,
   "metadata": {},
   "outputs": [],
   "source": [
    "def convertir_fecha(fecha):\n",
    "    # Utilizar expresión regular para extraer componentes de la fecha\n",
    "    match = re.match(r\"Posted (\\w+) (\\d+), (\\d+)\", fecha)\n",
    "    if match:\n",
    "        mes_str, dia_str, anio_str = match.groups()\n",
    "        # Mapear nombres de meses a números\n",
    "        meses = {\n",
    "            'January': '01', 'February': '02', 'March': '03', 'April': '04',\n",
    "            'May': '05', 'June': '06', 'July': '07', 'August': '08',\n",
    "            'September': '09', 'October': '10', 'November': '11', 'December': '12'\n",
    "        }\n",
    "        # Crear la fecha en el nuevo formato\n",
    "        nueva_fecha = f\"{anio_str}-{meses[mes_str]}-{dia_str.zfill(2)}\"\n",
    "        return nueva_fecha\n",
    "    else:\n",
    "        return None\n",
    "reviews['posted_date'] = reviews['posted'].apply(convertir_fecha)\n",
    "reviews['posted_date'] = pd.to_datetime(reviews['posted_date'])\n",
    "reviews = reviews.drop(['posted'], axis=1)"
   ]
  },
  {
   "cell_type": "code",
   "execution_count": null,
   "metadata": {},
   "outputs": [],
   "source": [
    "def convertir_fecha(fecha):\n",
    "    # Utilizar expresión regular para extraer componentes de la fecha\n",
    "    match = re.match(r\"Last edited (\\w+) (\\d+), (\\d+)\", fecha)\n",
    "    if match:\n",
    "        mes_str, dia_str, anio_str = match.groups()\n",
    "        # Mapear nombres de meses a números\n",
    "        meses = {\n",
    "            'January': '01', 'February': '02', 'March': '03', 'April': '04',\n",
    "            'May': '05', 'June': '06', 'July': '07', 'August': '08',\n",
    "            'September': '09', 'October': '10', 'November': '11', 'December': '12'\n",
    "        }\n",
    "        # Crear la fecha en el nuevo formato\n",
    "        nueva_fecha = f\"{anio_str}-{meses[mes_str]}-{dia_str.zfill(2)}\"\n",
    "        return nueva_fecha\n",
    "    else:\n",
    "        return None\n",
    "\n",
    "reviews['last_edited'] = reviews['last_edited'].apply(convertir_fecha)\n",
    "reviews['last_edited'] = pd.to_datetime(reviews['last_edited'])"
   ]
  },
  {
   "cell_type": "markdown",
   "metadata": {},
   "source": [
    "La columna funny indica la cantidad de personas que les pareció graciosa las recomndación"
   ]
  },
  {
   "cell_type": "code",
   "execution_count": null,
   "metadata": {},
   "outputs": [],
   "source": [
    "reviews['funny'] = reviews['funny'].str.replace('1 person found this review funny','1') # Reemplazar por 1\n",
    "reviews['funny'] = reviews['funny'].str.replace(' people found this review funny','')   # Eliminar las palabras y dejar unicamente la cantidad\n",
    "reviews['funny'] = reviews['funny'].str.strip()                                         # Eliminar espacios en blanco al principio y final\n",
    "reviews['funny'] = pd.to_numeric(reviews['funny'], errors='coerce')                     # Convertir a dato tipo numérico\n",
    "reviews['funny'] = reviews['funny'].fillna(0)                                           # Imputar  los valores NaN con 0 para que sea un número\n",
    "reviews['funny'] = reviews['funny'].astype(int)                                         # Convertir a int"
   ]
  },
  {
   "cell_type": "markdown",
   "metadata": {},
   "source": [
    "Función análisis de sentimiento con NLP"
   ]
  },
  {
   "cell_type": "code",
   "execution_count": null,
   "metadata": {},
   "outputs": [],
   "source": [
    "sia = SentimentIntensityAnalyzer()\n",
    "def sentiment_analisys(data):\n",
    "    try:\n",
    "        value = sia.polarity_scores(data)['compound']\n",
    "        if  value >= 0.05:          # Sentimiento positivo\n",
    "            return 2\n",
    "        elif  value <= -0.05:       #  Sentimiento negativo\n",
    "            return 0\n",
    "        else:\n",
    "            return 1                # Sentimiento  neutral\n",
    "    except:\n",
    "        return 1\n",
    "\n",
    "reviews['sentiment_analysis'] = reviews['review'].apply(lambda x: sentiment_analisys(x))   # Aplicando NLP"
   ]
  },
  {
   "cell_type": "code",
   "execution_count": null,
   "metadata": {},
   "outputs": [],
   "source": [
    "reviews.to_parquet('../dataset/reviews.parquet')"
   ]
  },
  {
   "cell_type": "code",
   "execution_count": null,
   "metadata": {},
   "outputs": [],
   "source": [
    "reviews.sample()"
   ]
  },
  {
   "cell_type": "code",
   "execution_count": null,
   "metadata": {},
   "outputs": [],
   "source": [
    "title_games = games[['title','id']]\n",
    "user_recommend = reviews[['item_id','recommend','posted_date','sentiment_analysis']]\n",
    "user_recommend = user_recommend.merge(title_games,left_on='item_id', right_on='id',how='inner')\n",
    "user_recommend['year'] = user_recommend['posted_date'].dt.year\n",
    "user_recommend.drop(columns=['id','posted_date'],inplace=True)\n",
    "user_recommend = user_recommend.dropna(subset=['year'])\n",
    "user_recommend['year']  = user_recommend['year'].astype(int)"
   ]
  },
  {
   "cell_type": "code",
   "execution_count": null,
   "metadata": {},
   "outputs": [],
   "source": [
    "user_recommend.to_parquet('../dataset/user_recommend.parquet')"
   ]
  },
  {
   "cell_type": "markdown",
   "metadata": {},
   "source": [
    "Creacion de DataFrame recommend_reviews"
   ]
  },
  {
   "cell_type": "code",
   "execution_count": null,
   "metadata": {},
   "outputs": [],
   "source": [
    "# Función para concatenar columnas omitiendo nulos\n",
    "def concat_cols(row):\n",
    "    result = ''\n",
    "    for col in range(len(row)-1):\n",
    "        value = row[col]\n",
    "        if pd.notnull(value):\n",
    "            result += str(value)\n",
    "    return result"
   ]
  },
  {
   "cell_type": "code",
   "execution_count": null,
   "metadata": {},
   "outputs": [],
   "source": [
    "data = {}\n",
    "for idx, row in reviews.iterrows():\n",
    "    item_id = row['item_id']\n",
    "    review = row['review']\n",
    "    if item_id in data:\n",
    "        data[item_id].append(review)\n",
    "    else:\n",
    "        data[item_id] = [review]\n",
    "\n",
    "data_reviews = pd.DataFrame.from_dict(data, orient='index')\n",
    "data_reviews = data_reviews.reset_index().rename(columns={'index': 'id'})\n",
    "data_reviews['reviews'] = data_reviews.apply(concat_cols, axis=1)\n",
    "data_reviews = data_reviews.drop(data_reviews.columns[range(1, len(data_reviews.columns)-1)], axis=1)\n",
    "data_reviews['reviews'] = data_reviews.apply(concat_cols, axis=1)\n",
    "data_reviews = data_reviews.drop(data_reviews.columns[range(1, len(data_reviews.columns)-1)], axis=1)"
   ]
  },
  {
   "cell_type": "code",
   "execution_count": null,
   "metadata": {},
   "outputs": [],
   "source": [
    "vectorizer = TfidfVectorizer(stop_words='english', max_features=1000)  # Se eligen 1000 palabras claves para vectorizar\n",
    "# Aplicar el vectorizador a los textos de las reviews\n",
    "vectores_reviews = vectorizer.fit_transform(data_reviews['reviews'])\n",
    "\n",
    "df_vectores_reviews = pd.concat([data_reviews[['id', 'reviews']], pd.DataFrame(vectores_reviews.toarray(), columns=[f\"feature_{i}\" for i in range(vectores_reviews.shape[1])])], axis=1)\n",
    "df_vectores_reviews = df_vectores_reviews.drop(['reviews'], axis=1)\n",
    "df_vectores_reviews['id'] = df_vectores_reviews['id'].astype(int)\n",
    "# Guardar el DataFrame en formato Parquet\n",
    "df_vectores_reviews.to_parquet('../dataset/reviews_per_item.parquet', engine='pyarrow', compression='snappy')"
   ]
  }
 ],
 "metadata": {
  "kernelspec": {
   "display_name": "Python 3",
   "language": "python",
   "name": "python3"
  },
  "language_info": {
   "codemirror_mode": {
    "name": "ipython",
    "version": 3
   },
   "file_extension": ".py",
   "mimetype": "text/x-python",
   "name": "python",
   "nbconvert_exporter": "python",
   "pygments_lexer": "ipython3",
   "version": "3.11.8"
  }
 },
 "nbformat": 4,
 "nbformat_minor": 2
}
