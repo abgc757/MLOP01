{
 "cells": [
  {
   "cell_type": "markdown",
   "metadata": {},
   "source": [
    "# Funciones API"
   ]
  },
  {
   "cell_type": "code",
   "execution_count": 1,
   "metadata": {},
   "outputs": [],
   "source": [
    "import pandas as pd\n",
    "import numpy as np\n",
    "import json\n",
    "import numpy as np"
   ]
  },
  {
   "cell_type": "markdown",
   "metadata": {},
   "source": [
    "- def PlayTimeGenre( genero : str ): Debe devolver año con mas horas jugadas para dicho género.\n",
    "Ejemplo de retorno: {\"Año de lanzamiento con más horas jugadas para Género X\" : 2013}"
   ]
  },
  {
   "cell_type": "code",
   "execution_count": 2,
   "metadata": {},
   "outputs": [],
   "source": [
    "def PlayTimeGenre( genero : str ):\n",
    "    data = pd.read_parquet('../dataset/genres_playtime.parquet')\n",
    "    result = data[data['genres']==genero].reset_index()\n",
    "    del data\n",
    "    return {f\"Año de lanzamiento con más horas jugadas para {genero}\" : result['year'].loc[0]}"
   ]
  },
  {
   "cell_type": "code",
   "execution_count": 3,
   "metadata": {},
   "outputs": [
    {
     "data": {
      "text/plain": [
       "{'Año de lanzamiento con más horas jugadas para RPG': 2011}"
      ]
     },
     "execution_count": 3,
     "metadata": {},
     "output_type": "execute_result"
    }
   ],
   "source": [
    "PlayTimeGenre('RPG')"
   ]
  },
  {
   "cell_type": "markdown",
   "metadata": {},
   "source": [
    "- def UserForGenre( genero : str ): Debe devolver el usuario que acumula más horas jugadas para el género dado y una lista de la acumulación de horas jugadas por año."
   ]
  },
  {
   "cell_type": "code",
   "execution_count": 4,
   "metadata": {},
   "outputs": [],
   "source": [
    "def UserForGenre( genero : str ):\n",
    "    data = pd.read_parquet('../dataset/user_playtime2genres.parquet')\n",
    "    data = data[data['genres']==genero]\n",
    "    usuario = data.groupby(['user_id'])['playtime_forever'].sum().sort_values(ascending=False).reset_index()\n",
    "    result = data[data['user_id'] == usuario['user_id'].loc[0]].reset_index()\n",
    "    i = 0\n",
    "    res = {f\"Usuario con más horas jugadas para {genero}\": usuario['user_id'].loc[0],\"Horas jugadas\":[]}\n",
    "    while i<= len(result['user_id']) -1:\n",
    "        res['Horas jugadas'].append({\"Año\":result['year'].loc[i], \"Horas\": result['playtime_forever'].loc[i]})\n",
    "        i = i + 1\n",
    "    del data\n",
    "    del usuario\n",
    "    del result\n",
    "    return [res]"
   ]
  },
  {
   "cell_type": "code",
   "execution_count": 5,
   "metadata": {},
   "outputs": [
    {
     "data": {
      "text/plain": [
       "[{'Usuario con más horas jugadas para RPG': 'shinomegami',\n",
       "  'Horas jugadas': [{'Año': 1999, 'Horas': 377},\n",
       "   {'Año': 2000, 'Horas': 0},\n",
       "   {'Año': 2001, 'Horas': 0},\n",
       "   {'Año': 2002, 'Horas': 0},\n",
       "   {'Año': 2003, 'Horas': 530943},\n",
       "   {'Año': 2004, 'Horas': 696},\n",
       "   {'Año': 2005, 'Horas': 185},\n",
       "   {'Año': 2006, 'Horas': 2023},\n",
       "   {'Año': 2007, 'Horas': 135020},\n",
       "   {'Año': 2008, 'Horas': 1305},\n",
       "   {'Año': 2009, 'Horas': 1382},\n",
       "   {'Año': 2010, 'Horas': 4311},\n",
       "   {'Año': 2011, 'Horas': 17752},\n",
       "   {'Año': 2012, 'Horas': 12819},\n",
       "   {'Año': 2013, 'Horas': 107775},\n",
       "   {'Año': 2014, 'Horas': 81938},\n",
       "   {'Año': 2015, 'Horas': 111419},\n",
       "   {'Año': 2016, 'Horas': 15550},\n",
       "   {'Año': 2017, 'Horas': 0}]}]"
      ]
     },
     "execution_count": 5,
     "metadata": {},
     "output_type": "execute_result"
    }
   ],
   "source": [
    "UserForGenre('RPG')"
   ]
  },
  {
   "cell_type": "markdown",
   "metadata": {},
   "source": [
    "- def UsersRecommend( año : int ): Devuelve el top 3 de juegos MÁS recomendados por usuarios para el año dado. (reviews.recommend = True y comentarios positivos/neutrales)"
   ]
  },
  {
   "cell_type": "code",
   "execution_count": 6,
   "metadata": {},
   "outputs": [],
   "source": [
    "def UsersRecommend( año : int ):\n",
    "    data = pd.read_parquet('../dataset/user_recommend.parquet')\n",
    "    # Filtrar los datos para el año solicitado\n",
    "    try:    \n",
    "        filter = data[(data['year'] == año) & (data['recommend'] == True) & (data['sentiment_analysis'] > 0)]\n",
    "        list = filter.groupby(by=['item_id']).size().sort_values(ascending=False)\n",
    "        ids = list.index\n",
    "        A = filter[filter['item_id'] == ids[0]]['title'].reset_index().loc[0]\n",
    "        B = filter[filter['item_id'] == ids[1]]['title'].reset_index().loc[0]\n",
    "        C = filter[filter['item_id'] == ids[2]]['title'].reset_index().loc[0]\n",
    "        result = [{\"Puesto 1\" : A['title']},{\"Puesto 2\" : B['title']}, {\"Puesto 3\" : C['title']}]\n",
    "        return result\n",
    "    except IndexError:\n",
    "        return [{f\"No hay registros para el año {año}\"}]"
   ]
  },
  {
   "cell_type": "code",
   "execution_count": 7,
   "metadata": {},
   "outputs": [
    {
     "data": {
      "text/plain": [
       "[{'Puesto 1': 'Counter-Strike: Global Offensive'},\n",
       " {'Puesto 2': 'Team Fortress 2'},\n",
       " {'Puesto 3': \"Garry's Mod\"}]"
      ]
     },
     "execution_count": 7,
     "metadata": {},
     "output_type": "execute_result"
    }
   ],
   "source": [
    "UsersRecommend(2015)"
   ]
  },
  {
   "cell_type": "markdown",
   "metadata": {},
   "source": [
    "- def UsersNotRecommend( año : int ): Devuelve el top 3 de juegos MENOS recomendados por usuarios para el año dado. (reviews.recommend = False y comentarios negativos)"
   ]
  },
  {
   "cell_type": "code",
   "execution_count": 8,
   "metadata": {},
   "outputs": [],
   "source": [
    "def UsersNotRecommend( año : int ):\n",
    "    data = pd.read_parquet('../dataset/user_recommend.parquet')\n",
    "    # Filtrar los datos para el año solicitado\n",
    "    try:    \n",
    "        filter = data[(data['year'] == año) & (data['recommend'] == False) & (data['sentiment_analysis'] == 0)]\n",
    "        list = filter.groupby(by=['item_id']).size().sort_values(ascending=False)\n",
    "        ids = list.index\n",
    "        A = filter[filter['item_id'] == ids[0]]['title'].reset_index().loc[0]\n",
    "        B = filter[filter['item_id'] == ids[1]]['title'].reset_index().loc[0]\n",
    "        C = filter[filter['item_id'] == ids[2]]['title'].reset_index().loc[0]\n",
    "        result = [{\"Puesto 1\" : A['title']},{\"Puesto 2\" : B['title']}, {\"Puesto 3\" : C['title']}]\n",
    "        return result\n",
    "    except IndexError:\n",
    "        return [{f\"No hay registros para el año {año}\"}]"
   ]
  },
  {
   "cell_type": "code",
   "execution_count": 9,
   "metadata": {},
   "outputs": [
    {
     "data": {
      "text/plain": [
       "[{'Puesto 1': 'Call of Duty®: Black Ops II'},\n",
       " {'Puesto 2': 'Resident Evil: Operation Raccoon City'},\n",
       " {'Puesto 3': \"The Kings' Crusade\"}]"
      ]
     },
     "execution_count": 9,
     "metadata": {},
     "output_type": "execute_result"
    }
   ],
   "source": [
    "UsersNotRecommend(2012)"
   ]
  },
  {
   "cell_type": "markdown",
   "metadata": {},
   "source": [
    "- def sentiment_analysis( año : int ): Según el año de lanzamiento, se devuelve una lista con la cantidad de registros de reseñas de usuarios que se encuentren categorizados con un análisis de sentimiento.\n",
    "Ejemplo de retorno: {Negative = 182, Neutral = 120, Positive = 278}"
   ]
  },
  {
   "cell_type": "code",
   "execution_count": 10,
   "metadata": {},
   "outputs": [],
   "source": [
    "def sentiment_analysis( año : int ):\n",
    "    data = pd.read_parquet('../dataset/user_recommend.parquet')\n",
    "    try:\n",
    "        filter = data[data['year'] == año]\n",
    "        group = filter.groupby(by=['sentiment_analysis']).size()\n",
    "        return {\"Negative =\": group[0], \"Neutral =\": group[1], \"Positive =\": group[2]}\n",
    "    except:\n",
    "        return {\"Error\" : \"No hay datos para el año ingresado\"}"
   ]
  },
  {
   "cell_type": "code",
   "execution_count": 11,
   "metadata": {},
   "outputs": [
    {
     "data": {
      "text/plain": [
       "{'Negative =': 49, 'Neutral =': 67, 'Positive =': 349}"
      ]
     },
     "execution_count": 11,
     "metadata": {},
     "output_type": "execute_result"
    }
   ],
   "source": [
    "sentiment_analysis(2011)"
   ]
  },
  {
   "cell_type": "markdown",
   "metadata": {},
   "source": [
    "- def recomendacion_juego( id de producto ): Ingresando el id de producto, deberíamos recibir una lista con 5 juegos recomendados similares al ingresado."
   ]
  },
  {
   "cell_type": "code",
   "execution_count": 12,
   "metadata": {},
   "outputs": [],
   "source": [
    "#Funcion cosine_similarity\n",
    "def similarityCosine(vector1, vector2):\n",
    "    norm1 = np.linalg.norm(vector1)\n",
    "    norm2 = np.linalg.norm(vector2)\n",
    "    if norm1 == 0 or norm2 == 0:\n",
    "        return 0 \n",
    "    else:\n",
    "        return np.dot(vector1, vector2) / (norm1 * norm2)"
   ]
  },
  {
   "cell_type": "code",
   "execution_count": 13,
   "metadata": {},
   "outputs": [],
   "source": [
    "def recomendacion_juego(id : int):\n",
    "    reviews  = pd.read_parquet('../dataset/reviews_per_item.parquet')\n",
    "    filtro = reviews[reviews['id'] == id]\n",
    "    try:\n",
    "        fila1 = filtro.iloc[0]\n",
    "    except IndexError:\n",
    "        return {\"error\": \"No se encontraron datos para el ID del juego dado.\"}   \n",
    "    fila1 = filtro.iloc[0]\n",
    "    lista = []\n",
    "    i = 0\n",
    "    while i < len(reviews):\n",
    "        fila2 = reviews.iloc[i]\n",
    "        lista.append(similarityCosine(fila1,fila2))\n",
    "        i += 1\n",
    "    reviews['similarity_cosine'] = lista\n",
    "    recomendacion =reviews[['id','similarity_cosine']].sort_values(by=['similarity_cosine'], ascending=False).head(10)\n",
    "    del reviews\n",
    "    rec = []\n",
    "    j = 0\n",
    "    while j < 6:\n",
    "        if recomendacion['id'].iloc[j] != id:\n",
    "            rec.append(recomendacion['id'].iloc[j])\n",
    "        j+=1\n",
    "    return {f\"Los juegos recomendados para {id} son: {rec}\"}"
   ]
  },
  {
   "cell_type": "code",
   "execution_count": 14,
   "metadata": {},
   "outputs": [
    {
     "data": {
      "text/plain": [
       "{'Los juegos recomendados para 43110 son: [1250, 304500, 235400, 269170, 263200, 228760]'}"
      ]
     },
     "execution_count": 14,
     "metadata": {},
     "output_type": "execute_result"
    }
   ],
   "source": [
    "recomendacion_juego(43110)"
   ]
  }
 ],
 "metadata": {
  "kernelspec": {
   "display_name": "Python 3",
   "language": "python",
   "name": "python3"
  },
  "language_info": {
   "codemirror_mode": {
    "name": "ipython",
    "version": 3
   },
   "file_extension": ".py",
   "mimetype": "text/x-python",
   "name": "python",
   "nbconvert_exporter": "python",
   "pygments_lexer": "ipython3",
   "version": "3.11.8"
  }
 },
 "nbformat": 4,
 "nbformat_minor": 2
}
